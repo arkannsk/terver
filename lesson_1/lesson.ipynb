{
 "cells": [
  {
   "cell_type": "code",
   "execution_count": null,
   "metadata": {
    "collapsed": true
   },
   "outputs": [],
   "source": []
  },
  {
   "cell_type": "markdown",
   "metadata": {
    "pycharm": {
     "name": "#%% md\n"
    }
   },
   "source": [
    " ### 1. Из колоды в 52 карты извлекаются случайным образом 4 карты. <br>\n",
    " #### a)  Найти вероятность того, что все карты – крести. <br>\n",
    " #### б) Найти вероятность, что среди 4-х карт окажется хотя бы один туз."
   ]
  },
  {
   "cell_type": "markdown",
   "metadata": {},
   "source": [
    "#### a)<br><br>\n",
    "Все сочетания<br>\n",
    "1. $$ C^{4}_{52} = \\frac{52!}{4!(52-4)!} = \\frac{49*50*51*52}{24} = 270725$$<br>\n",
    "Сочетания крестовых карт<br>\n",
    "2. $$ C^{4}_{13} = \\frac{13!}{4!(13!-4!)} = \\frac{10*11*12*13}{24} = 715$$<br>\n",
    "3. $$ P = \\frac{715}{270725} = 0.0026  $$ <br>\n",
    "\n",
    "#### б)<br><br>\n"
   ]
  },
  {
   "cell_type": "markdown",
   "metadata": {},
   "source": [
    "Все сочетания<br>\n",
    "1. $$ C^{4}_{52} = \\frac{52!}{4!(52-4)!} = \\frac{49*50*51*52}{24} = 270725$$<br>\n",
    "\n",
    "Сочетания без тузов<br>\n",
    "2. $$ C^{4}_{48} = \\frac{48!}{4!(48-4)!} = \\frac{45*46*47*48}{24} = 194580$$<br>\n",
    "\n",
    "3.  $$ P = \\frac{270725-194580}{270725} = 0.2812 $$<br>"
   ]
  },
  {
   "cell_type": "markdown",
   "source": [
    "### 2. На входной двери подъезда установлен кодовый замок, содержащий десять кнопок с цифрами от 0 до 9. Код содержит три цифры, которые нужно нажать одновременно. Какова вероятность того, что человек, не знающий код, откроет дверь с первой попытки?"
   ],
   "metadata": {
    "collapsed": false
   }
  },
  {
   "cell_type": "markdown",
   "source": [
    "Все сочетания<br>\n",
    "1. $$ C^{3}_{10} = \\frac{10!}{3!(10-3)!} = \\frac{8*9*10}{6} = 120$$<br>\n",
    "2. $$P = \\frac{1}{120} = 0.008$$"
   ],
   "metadata": {
    "collapsed": false
   }
  },
  {
   "cell_type": "markdown",
   "source": [
    "### 3. В ящике имеется 15 деталей, из которых 9 окрашены. Рабочий случайным образом извлекает 3 детали. Какова вероятность того, что все извлеченные детали окрашены?\n"
   ],
   "metadata": {
    "collapsed": false
   }
  },
  {
   "cell_type": "markdown",
   "source": [
    "$$ P = \\frac{9}{15} * \\frac{8}{14} * \\frac{7}{13}= \\frac{504}{2730} = 0.1846$$\n"
   ],
   "metadata": {
    "collapsed": false
   }
  },
  {
   "cell_type": "markdown",
   "source": [
    "### 4. В лотерее 100 билетов. Из них 2 выигрышных. Какова вероятность того, что 2 приобретенных билета окажутся выигрышными?"
   ],
   "metadata": {
    "collapsed": false
   }
  },
  {
   "cell_type": "markdown",
   "source": [
    "$$ P = \\frac{1}{100} * \\frac{1}{99} \\approx 0.0001 $$"
   ],
   "metadata": {
    "collapsed": false
   }
  }
 ],
 "metadata": {
  "kernelspec": {
   "display_name": "Python 3",
   "language": "python",
   "name": "python3"
  },
  "language_info": {
   "codemirror_mode": {
    "name": "ipython",
    "version": 3
   },
   "file_extension": ".py",
   "mimetype": "text/x-python",
   "name": "python",
   "nbconvert_exporter": "python",
   "pygments_lexer": "ipython3",
   "version": "3.9.6"
  }
 },
 "nbformat": 4,
 "nbformat_minor": 1
}