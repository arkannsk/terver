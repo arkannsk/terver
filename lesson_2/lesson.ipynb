{
 "cells": [
  {
   "cell_type": "code",
   "execution_count": 1,
   "metadata": {
    "collapsed": true
   },
   "outputs": [],
   "source": [
    "import numpy as np"
   ]
  },
  {
   "cell_type": "code",
   "execution_count": 2,
   "outputs": [],
   "source": [
    "from math import factorial\n",
    "def combinations(n, k):\n",
    "    return int(factorial(n) / (factorial(k) * factorial(n - k)))"
   ],
   "metadata": {
    "collapsed": false,
    "pycharm": {
     "name": "#%%\n"
    }
   }
  },
  {
   "cell_type": "markdown",
   "source": [
    "### 1. Вероятность того, что стрелок попадет в мишень, выстрелив один раз, равна 0.8. Стрелок выстрелил 100 раз. Найдите вероятность того, что стрелок попадет в цель ровно 85 раз.\n"
   ],
   "metadata": {
    "collapsed": false
   }
  },
  {
   "cell_type": "markdown",
   "source": [
    "$$ p = 0.8 $$<br>\n",
    "$$ q = 1-0.8=0.2 $$<br>\n",
    "$$ n = 100 $$<br>\n",
    "$$ k = 85 $$<br>\n",
    "\n",
    "\n",
    "$$ P_{100}(X=85) = \\frac{100!}{85!(100-85)!}*0.8^{85}*0.2^{15} $$"
   ],
   "metadata": {
    "collapsed": false,
    "pycharm": {
     "name": "#%% md\n"
    }
   }
  },
  {
   "cell_type": "code",
   "execution_count": 3,
   "outputs": [
    {
     "data": {
      "text/plain": "0.048061793700746556"
     },
     "execution_count": 3,
     "metadata": {},
     "output_type": "execute_result"
    }
   ],
   "source": [
    "p = 0.8\n",
    "q = 0.2\n",
    "n = 100\n",
    "k = 85\n",
    "\n",
    "combinations(100,85)*np.power(p,k)*np.power(q,n-k)"
   ],
   "metadata": {
    "collapsed": false,
    "pycharm": {
     "name": "#%%\n"
    }
   }
  },
  {
   "cell_type": "markdown",
   "source": [
    "### 2. Вероятность того, что лампочка перегорит в течение первого дня эксплуатации, равна 0.0004. В жилом комплексе после ремонта в один день включили 5000 новых лампочек. Какова вероятность, что ни одна из них не перегорит в первый день? Какова вероятность, что перегорят ровно две?"
   ],
   "metadata": {
    "collapsed": false
   }
  },
  {
   "cell_type": "code",
   "source": [
    "def poisson(n,p,m):\n",
    "    lambda_ = n * p\n",
    "    print((lambda_**m / np.math.factorial(m)) * np.exp(-lambda_))"
   ],
   "metadata": {
    "collapsed": false,
    "pycharm": {
     "name": "#%%\n"
    }
   },
   "execution_count": 4,
   "outputs": []
  },
  {
   "cell_type": "code",
   "execution_count": 5,
   "outputs": [
    {
     "name": "stdout",
     "output_type": "stream",
     "text": [
      "0.1353352832366127\n"
     ]
    }
   ],
   "source": [
    "# Ни одна не перегорит\n",
    "poisson(5000,0.0004,0)"
   ],
   "metadata": {
    "collapsed": false,
    "pycharm": {
     "name": "#%%\n"
    }
   }
  },
  {
   "cell_type": "code",
   "execution_count": 6,
   "outputs": [
    {
     "name": "stdout",
     "output_type": "stream",
     "text": [
      "0.2706705664732254\n"
     ]
    }
   ],
   "source": [
    "# Ровно две перегорят\n",
    "poisson(5000,0.0004,2)"
   ],
   "metadata": {
    "collapsed": false,
    "pycharm": {
     "name": "#%%\n"
    }
   }
  },
  {
   "cell_type": "markdown",
   "source": [
    "### 3. Монету подбросили 144 раза. Какова вероятность, что орел выпадет ровно 70 раз?"
   ],
   "metadata": {
    "collapsed": false
   }
  },
  {
   "cell_type": "markdown",
   "source": [
    "$$ p = 0.5 $$<br>\n",
    "$$ q = 0.5 $$<br>\n",
    "$$ n = 144 $$<br>\n",
    "$$ k = 70 $$<br>\n",
    "\n",
    "\n",
    "$$ P_{144}(X=70) = \\frac{144!}{70!(144-70)!}*0.5^{70}*0.5^{74} $$"
   ],
   "metadata": {
    "collapsed": false,
    "pycharm": {
     "name": "#%% md\n"
    }
   }
  },
  {
   "cell_type": "code",
   "execution_count": 7,
   "outputs": [
    {
     "data": {
      "text/plain": "0.06281178035144776"
     },
     "execution_count": 7,
     "metadata": {},
     "output_type": "execute_result"
    }
   ],
   "source": [
    "p = 0.5\n",
    "q = 0.5\n",
    "n = 144\n",
    "k = 70\n",
    "\n",
    "combinations(144,70)*np.power(p,k)*np.power(q,n-k)"
   ],
   "metadata": {
    "collapsed": false,
    "pycharm": {
     "name": "#%%\n"
    }
   }
  },
  {
   "cell_type": "markdown",
   "source": [
    "### 4. В первом ящике находится 10 мячей, из которых 7 - белые. Во втором ящике - 11 мячей, из которых 9 белых. Из каждого ящика вытаскивают случайным образом по два мяча. Какова вероятность того, что все мячи белые? Какова вероятность того, что ровно два мяча белые? Какова вероятность того, что хотя бы один мяч белый?"
   ],
   "metadata": {
    "collapsed": false
   }
  },
  {
   "cell_type": "markdown",
   "source": [
    "Все белые<br>\n",
    "$$ P=\\frac{C_{7}^2}{C_{10}^2} * \\frac{C_{9}^2}{C_{11}^2} $$"
   ],
   "metadata": {
    "collapsed": false
   }
  },
  {
   "cell_type": "code",
   "execution_count": 8,
   "outputs": [
    {
     "data": {
      "text/plain": "0.3054545454545455"
     },
     "execution_count": 8,
     "metadata": {},
     "output_type": "execute_result"
    }
   ],
   "source": [
    "combinations(7,2)/combinations(10,2)*combinations(9,2)/combinations(11,2)\n"
   ],
   "metadata": {
    "collapsed": false,
    "pycharm": {
     "name": "#%%\n"
    }
   }
  },
  {
   "cell_type": "markdown",
   "source": [
    "Ровно два белые<br><br>\n",
    "2 бел. в первой корзине, во второй 0<br>\n",
    "$$ P_1=\\frac{C_{7}^2}{C_{10}^2}*\\frac{C_{2}^2}{C_{11}^2} $$<br>\n",
    "1 бел. в первой корзине, во второй 1 бел<br>\n",
    "$$ P_2=\\frac{C_{7}^1*C_{3}^1}{C_{10}^2}*\\frac{C_{9}^1*C_{2}^1}{C_{11}^2} $$<br>\n",
    "0 бел. в первой корзине, во второй 2 бел.<br>\n",
    "$$ P_3=\\frac{C_{3}^2}{C_{10}^2}*\\frac{C_{9}^2}{C_{11}^2} $$<br>\n",
    "$$ P = P_1+P_2+P_3 $$"
   ],
   "metadata": {
    "collapsed": false
   }
  },
  {
   "cell_type": "code",
   "source": [
    "p1 = combinations(7,2)/combinations(10,2)*combinations(2,2)/combinations(11,2)\n",
    "p2 = combinations(7,1)*combinations(3,1)/combinations(10,2) * combinations(9,1)*combinations(2,1)/combinations(11,2)\n",
    "p3 = combinations(3,2)/combinations(10,2)*combinations(9,2)/combinations(11,2)\n",
    "p1 + p2 + p3"
   ],
   "metadata": {
    "collapsed": false,
    "pycharm": {
     "name": "#%%\n"
    }
   },
   "execution_count": 9,
   "outputs": [
    {
     "data": {
      "text/plain": "0.20484848484848486"
     },
     "execution_count": 9,
     "metadata": {},
     "output_type": "execute_result"
    }
   ]
  },
  {
   "cell_type": "markdown",
   "source": [
    "Хотя бы один белый<br>\n",
    "$$ P= 1 - P_{неблагопр} = 1 - \\frac{C_{3}^2}{C_{10}^2} * \\frac{C_{2}^2}{C_{11}^2} $$"
   ],
   "metadata": {
    "collapsed": false
   }
  },
  {
   "cell_type": "code",
   "execution_count": 10,
   "outputs": [
    {
     "data": {
      "text/plain": "0.9987878787878788"
     },
     "execution_count": 10,
     "metadata": {},
     "output_type": "execute_result"
    }
   ],
   "source": [
    "1 - combinations(3,2)/combinations(10,2)*combinations(2,2)/combinations(11,2)\n"
   ],
   "metadata": {
    "collapsed": false,
    "pycharm": {
     "name": "#%%\n"
    }
   }
  }
 ],
 "metadata": {
  "kernelspec": {
   "display_name": "Python 3",
   "language": "python",
   "name": "python3"
  },
  "language_info": {
   "codemirror_mode": {
    "name": "ipython",
    "version": 2
   },
   "file_extension": ".py",
   "mimetype": "text/x-python",
   "name": "python",
   "nbconvert_exporter": "python",
   "pygments_lexer": "ipython2",
   "version": "2.7.6"
  }
 },
 "nbformat": 4,
 "nbformat_minor": 0
}