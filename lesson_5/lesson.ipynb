{
 "cells": [
  {
   "cell_type": "code",
   "execution_count": 1,
   "metadata": {
    "collapsed": true
   },
   "outputs": [],
   "source": [
    "import numpy as np"
   ]
  },
  {
   "cell_type": "markdown",
   "metadata": {},
   "source": [
    "### 1. Известно, что генеральная совокупность распределена нормально со средним квадратическим отклонением, равным 16. Найти доверительный интервал для оценки математического ожидания a с надежностью 0.95, если выборочная средняя M = 80, а объем выборки n = 256.\n"
   ]
  },
  {
   "cell_type": "markdown",
   "metadata": {},
   "source": [
    "$$ M = 80 $$<br>\n",
    "$$ std = 16 $$<br>\n",
    "$$ n = 256 $$<br>\n",
    "$$ a = 0.05 $$<br>\n",
    "$$ Z =  1.96 $$<br>\n",
    "$$ 80 + \\frac{1.96 * 16 }{\\sqrt{256}} = 81.96 $$<br>\n",
    "$$ 80 - \\frac{1.96 * 16 }{\\sqrt{256}} = 78.04 $$<br>\n",
    "$$ [78.04; 81.96] $$<br>"
   ]
  },
  {
   "cell_type": "markdown",
   "metadata": {},
   "source": [
    "### 2. В результате 10 независимых измерений некоторой величины X, выполненных с одинаковой точностью, получены опытные данные: 6.9, 6.1, 6.2, 6.8, 7.5, 6.3, 6.4, 6.9, 6.7, 6.1 Предполагая, что результаты измерений подчинены нормальному закону распределения вероятностей, оценить истинное значение величины X при помощи доверительного интервала, покрывающего это значение с доверительной вероятностью 0,95."
   ]
  },
  {
   "cell_type": "code",
   "execution_count": 2,
   "metadata": {
    "pycharm": {
     "name": "#%%\n"
    }
   },
   "outputs": [
    {
     "name": "stdout",
     "output_type": "stream",
     "text": [
      "n = 10; M = 6.590000000000001; std = 0.4508017549014448\n"
     ]
    }
   ],
   "source": [
    "x = np.array([6.9, 6.1, 6.2, 6.8, 7.5, 6.3, 6.4, 6.9, 6.7, 6.1])\n",
    "n = len(x)\n",
    "mu = x.mean()\n",
    "x_std = x.std(ddof=1)\n",
    "t = 2.262\n",
    "print(f'n = {n}; M = {mu}; std = {x_std}')"
   ]
  },
  {
   "cell_type": "code",
   "execution_count": 3,
   "metadata": {
    "pycharm": {
     "name": "#%%\n"
    }
   },
   "outputs": [
    {
     "name": "stdout",
     "output_type": "stream",
     "text": [
      "[6.267538255912426; 6.912461744087575]\n"
     ]
    }
   ],
   "source": [
    "left = mu - (t * x_std) / np.sqrt(n)\n",
    "right = mu + (t * x_std) / np.sqrt(n)\n",
    "print(f'[{left}; {right}]')"
   ]
  },
  {
   "cell_type": "markdown",
   "metadata": {},
   "source": [
    "### 3. Утверждается, что шарики для подшипников, изготовленные автоматическим станком, имеют средний диаметр 17 мм. Используя односторонний критерий с α=0,05, проверить эту гипотезу, если в выборке из n=100 шариков средний диаметр оказался равным 17.5 мм, а дисперсия известна и равна 4 кв. мм.\n"
   ]
  },
  {
   "cell_type": "code",
   "execution_count": 4,
   "metadata": {
    "pycharm": {
     "name": "#%%\n"
    }
   },
   "outputs": [
    {
     "data": {
      "text/plain": [
       "True"
      ]
     },
     "execution_count": 4,
     "metadata": {},
     "output_type": "execute_result"
    }
   ],
   "source": [
    "mu_0 = 17\n",
    "mu = 17.5\n",
    "a = 0.05\n",
    "n = 100\n",
    "sigma = 4\n",
    "z = 1.645\n",
    "\n",
    "res_z = (mu - mu_0) / (2/ np.sqrt(n))\n",
    "res_z > z"
   ]
  },
  {
   "cell_type": "markdown",
   "metadata": {
    "pycharm": {
     "name": "#%% md\n"
    }
   },
   "source": [
    "$$ H_1: \\mu > \\mu_0 \\space верна \\space при \\space \\alpha = 5\\%$$"
   ]
  },
  {
   "cell_type": "markdown",
   "metadata": {},
   "source": [
    "### 4. Продавец утверждает, что средний вес пачки печенья составляет 200 г. Из партии извлечена выборка из 10 пачек. Вес каждой пачки составляет: 202, 203, 199, 197, 195, 201, 200, 204, 194, 190. Известно, что их веса распределены нормально. Верно ли утверждение продавца, если учитывать, что доверительная вероятность равна 99%?\n"
   ]
  },
  {
   "cell_type": "code",
   "execution_count": 5,
   "metadata": {
    "pycharm": {
     "name": "#%%\n"
    }
   },
   "outputs": [
    {
     "name": "stdout",
     "output_type": "stream",
     "text": [
      "n = 10; M = 198.5; std = 4.453463071962462\n"
     ]
    }
   ],
   "source": [
    "x = np.array([202, 203, 199, 197, 195, 201, 200, 204, 194, 190])\n",
    "\n",
    "mu_0 = 200\n",
    "mu = x.mean()\n",
    "n = len(x)\n",
    "a = 0.01\n",
    "x_std = x.std(ddof=1)\n",
    "print(f'n = {n}; M = {mu}; std = {x_std}')"
   ]
  },
  {
   "cell_type": "code",
   "execution_count": 6,
   "metadata": {
    "pycharm": {
     "name": "#%%\n"
    }
   },
   "outputs": [
    {
     "data": {
      "text/plain": [
       "-1.0651074037450896"
      ]
     },
     "execution_count": 6,
     "metadata": {},
     "output_type": "execute_result"
    }
   ],
   "source": [
    "t_res = ((mu - mu_0) * (np.sqrt(n)))/x_std\n",
    "t_res"
   ]
  },
  {
   "cell_type": "markdown",
   "metadata": {},
   "source": [
    "$$ t = \\pm 3.25 $$ <br>\n",
    "$$ H_0: \\mu = \\mu_0 \\space верна \\space при \\space \\alpha = 1\\%$$\n"
   ]
  }
 ],
 "metadata": {
  "kernelspec": {
   "display_name": "Python 3",
   "language": "python",
   "name": "python3"
  },
  "language_info": {
   "codemirror_mode": {
    "name": "ipython",
    "version": 3
   },
   "file_extension": ".py",
   "mimetype": "text/x-python",
   "name": "python",
   "nbconvert_exporter": "python",
   "pygments_lexer": "ipython3",
   "version": "3.9.7"
  }
 },
 "nbformat": 4,
 "nbformat_minor": 1
}