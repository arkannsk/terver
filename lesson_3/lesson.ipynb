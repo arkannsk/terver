{
 "cells": [
  {
   "cell_type": "code",
   "execution_count": 1,
   "metadata": {
    "collapsed": true
   },
   "outputs": [],
   "source": [
    "import numpy as np"
   ]
  },
  {
   "cell_type": "code",
   "execution_count": 2,
   "metadata": {
    "pycharm": {
     "name": "#%%\n"
    }
   },
   "outputs": [],
   "source": [
    "from math import factorial\n",
    "def combinations(n, k):\n",
    "    return int(factorial(n) / (factorial(k) * factorial(n - k)))"
   ]
  },
  {
   "cell_type": "markdown",
   "metadata": {
    "pycharm": {
     "name": "#%% md\n"
    }
   },
   "source": [
    "### 1. Даны значения зарплат из выборки выпускников: 100, 80, 75, 77, 89, 33, 45, 25, 65, 17, 30, 24, 57, 55, 70, 75, 65, 84, 90, 150. Посчитать (желательно без использования статистических методов наподобие std, var, mean) среднее арифметическое, среднее квадратичное отклонение, смещенную и несмещенную оценки дисперсий для данной выборки."
   ]
  },
  {
   "cell_type": "code",
   "execution_count": 3,
   "metadata": {
    "pycharm": {
     "name": "#%%\n"
    }
   },
   "outputs": [
    {
     "data": {
      "text/plain": [
       "65.3"
      ]
     },
     "execution_count": 3,
     "metadata": {},
     "output_type": "execute_result"
    }
   ],
   "source": [
    "income = [100, 80, 75, 77, 89, 33, 45, 25, 65, 17, 30, 24, 57, 55, 70, 75, 65, 84, 90, 150]\n",
    "\n",
    "# Среднее арифметическое\n",
    "income_mean = sum(income)/len(income)\n",
    "income_mean"
   ]
  },
  {
   "cell_type": "code",
   "execution_count": 4,
   "metadata": {
    "pycharm": {
     "name": "#%%\n"
    }
   },
   "outputs": [
    {
     "data": {
      "text/plain": [
       "65.3"
      ]
     },
     "execution_count": 4,
     "metadata": {},
     "output_type": "execute_result"
    }
   ],
   "source": [
    "np.mean(income)"
   ]
  },
  {
   "cell_type": "code",
   "execution_count": 5,
   "metadata": {
    "pycharm": {
     "name": "#%%\n"
    }
   },
   "outputs": [
    {
     "data": {
      "text/plain": [
       "30.823854398825596"
      ]
     },
     "execution_count": 5,
     "metadata": {},
     "output_type": "execute_result"
    }
   ],
   "source": [
    "# Среднее квадратичное отклонение\n",
    "n=len(income)\n",
    "sum_num = 0\n",
    "for num in income:\n",
    "  sum_num+= (num - income_mean)**2\n",
    "np.sqrt(sum_num/n)"
   ]
  },
  {
   "cell_type": "code",
   "execution_count": 6,
   "metadata": {
    "pycharm": {
     "name": "#%%\n"
    }
   },
   "outputs": [
    {
     "data": {
      "text/plain": [
       "30.823854398825596"
      ]
     },
     "execution_count": 6,
     "metadata": {},
     "output_type": "execute_result"
    }
   ],
   "source": [
    "np.std(income)"
   ]
  },
  {
   "cell_type": "code",
   "execution_count": 7,
   "metadata": {
    "pycharm": {
     "name": "#%%\n"
    }
   },
   "outputs": [
    {
     "data": {
      "text/plain": [
       "950.11"
      ]
     },
     "execution_count": 7,
     "metadata": {},
     "output_type": "execute_result"
    }
   ],
   "source": [
    "# Смещенная дисперсия\n",
    "n=len(income)\n",
    "sum_num = 0\n",
    "for num in income:\n",
    "  sum_num+= (num - income_mean)**2\n",
    "sum_num/n"
   ]
  },
  {
   "cell_type": "code",
   "execution_count": 8,
   "metadata": {
    "pycharm": {
     "name": "#%%\n"
    }
   },
   "outputs": [
    {
     "data": {
      "text/plain": [
       "950.11"
      ]
     },
     "execution_count": 8,
     "metadata": {},
     "output_type": "execute_result"
    }
   ],
   "source": [
    "np.var(income)"
   ]
  },
  {
   "cell_type": "code",
   "execution_count": 9,
   "metadata": {
    "pycharm": {
     "name": "#%%\n"
    }
   },
   "outputs": [
    {
     "data": {
      "text/plain": [
       "1000.1157894736842"
      ]
     },
     "execution_count": 9,
     "metadata": {},
     "output_type": "execute_result"
    }
   ],
   "source": [
    "# Несмещенная дисперсия\n",
    "n=len(income) - 1\n",
    "sum_num = 0\n",
    "for num in income:\n",
    "  sum_num+= (num - income_mean)**2\n",
    "sum_num/n"
   ]
  },
  {
   "cell_type": "code",
   "execution_count": 10,
   "metadata": {
    "pycharm": {
     "name": "#%%\n"
    }
   },
   "outputs": [
    {
     "data": {
      "text/plain": [
       "1000.1157894736842"
      ]
     },
     "execution_count": 10,
     "metadata": {},
     "output_type": "execute_result"
    }
   ],
   "source": [
    "np.var(income, ddof=1)"
   ]
  },
  {
   "cell_type": "markdown",
   "metadata": {},
   "source": [
    "### 2. В первом ящике находится 8 мячей, из которых 5 - белые. Во втором ящике - 12 мячей, из которых 5 белых. Из первого ящика вытаскивают случайным образом два мяча, из второго - 4. Какова вероятность того, что 3 мяча белые?\n",
    "\n",
    "2 бел. в первой корзине, во второй минимум 1<br>\n",
    "$$ P_1=\\frac{C_{5}^2}{C_{8}^2}*\\frac{C_{5}^1*С_{7}^3}{C_{12}^4} $$<br>\n",
    "1 бел. в первой корзине, во второй минимум 2 бел<br>\n",
    "$$ P_2=\\frac{C_{5}^1*C_{3}^1}{C_{8}^2}*\\frac{C_{5}^2*C_{7}^2}{C_{12}^4} $$<br>\n",
    "0 бел. в первой корзине, во второй минимум 3 бел.<br>\n",
    "$$ P_3=\\frac{C_{3}^2}{C_{8}^2}*\\frac{C_{5}^3*C_{7}^1}{C_{12}^4} $$<br>\n",
    "$$ P = P_1+P_2+P_3 $$\n"
   ]
  },
  {
   "cell_type": "code",
   "execution_count": 11,
   "metadata": {
    "pycharm": {
     "name": "#%%\n"
    }
   },
   "outputs": [],
   "source": [
    "p_1 = combinations(5,2)/combinations(8,2) * combinations(5,1) * combinations(7,3) / combinations(12,4)\n",
    "p_2 = combinations(5,1) * combinations(3,1) / combinations(8,2) * combinations(5,2) * combinations(7,2) / combinations(12,4)\n",
    "p_3 = combinations(3,2) / combinations(8,2) * combinations(5,3) * combinations(7,1) / combinations(12,4)\n"
   ]
  },
  {
   "cell_type": "code",
   "execution_count": 12,
   "metadata": {
    "pycharm": {
     "name": "#%%\n"
    }
   },
   "outputs": [
    {
     "data": {
      "text/plain": [
       "0.3686868686868686"
      ]
     },
     "execution_count": 12,
     "metadata": {},
     "output_type": "execute_result"
    }
   ],
   "source": [
    "p_1 + p_2 + p_3"
   ]
  },
  {
   "cell_type": "markdown",
   "metadata": {},
   "source": [
    "### 3. На соревновании по биатлону один из трех спортсменов стреляет и попадает в мишень. Вероятность попадания для первого спортсмена равна 0.9, для второго — 0.8, для третьего — 0.6. Найти вероятность того, что выстрел произведен: a). первым спортсменом б). вторым спортсменом в). третьим спортсменом.\n"
   ]
  },
  {
   "cell_type": "markdown",
   "metadata": {},
   "source": [
    "$$ P(A|B1) = \\frac{1}{3} $$</br>\n",
    "$$ P(A|B2) = \\frac{1}{3} $$</br>\n",
    "$$ P(A|B3) = \\frac{1}{3} $$</br>\n",
    "\n",
    "$$ P(A) = \\frac{1}{3} * (0.9+0.8+0.6) = \\frac{1}{3} * \\frac{23}{10} = \\frac{23}{30} $$ <br>\n",
    "\n",
    "a) $$ P(B1|A) = \\frac{\\frac{1}{3}*0.9}{\\frac{23}{30}} = 0.3913 $$ <br>\n",
    "б) $$ P(B2|A) = \\frac{\\frac{1}{3}*0.8}{\\frac{23}{30}} = 0.3478 $$ <br>\n",
    "в) $$ P(B3|A) = \\frac{\\frac{1}{3}*0.6}{\\frac{23}{30}} = 0.2608 $$ <br>"
   ]
  },
  {
   "cell_type": "markdown",
   "metadata": {
    "pycharm": {
     "name": "#%% md\n"
    }
   },
   "source": [
    "### 4. В университет на факультеты A и B поступило равное количество студентов, а на факультет C студентов поступило столько же, сколько на A и B вместе. Вероятность того, что студент факультета A сдаст первую сессию, равна 0.8. Для студента факультета B эта вероятность равна 0.7, а для студента факультета C - 0.9. Студент сдал первую сессию. Какова вероятность, что он учится: a). на факультете A б). на факультете B в). на факультете C?\n",
    "$$ P(A|B1) = \\frac{1}{4} $$</br>\n",
    "$$ P(A|B2) = \\frac{1}{4} $$</br>\n",
    "$$ P(A|B3) = \\frac{2}{4} $$</br>\n",
    "\n",
    "$$ P(A) = \\frac{1}{4} * 0.8 + \\frac{1}{4} * 0.7 + \\frac{2}{4} * 0.9 = 0.825 $$ <br>\n",
    "\n",
    "a) $$ P(B1|A) = \\frac{\\frac{1}{4}*0.8}{0.825} = 0.24(24) $$ <br>\n",
    "б) $$ P(B2|A) = \\frac{\\frac{1}{4}*0.7}{0.825} = 0.21(21) $$ <br>\n",
    "в) $$ P(B3|A) = \\frac{\\frac{2}{4}*0.9}{0.825} = 0.54(54) $$ <br>"
   ]
  },
  {
   "cell_type": "markdown",
   "metadata": {
    "pycharm": {
     "name": "#%% md\n"
    }
   },
   "source": [
    "### 5. Устройство состоит из трех деталей. Для первой детали вероятность выйти из строя в первый месяц равна 0.1, для второй - 0.2, для третьей - 0.25. Какова вероятность того, что в первый месяц выйдут из строя: а). все детали б). только две детали в). хотя бы одна деталь г). от одной до двух деталей?"
   ]
  },
  {
   "cell_type": "markdown",
   "metadata": {
    "pycharm": {
     "name": "#%% md\n"
    }
   },
   "source": [
    "a)$$ 0.1 * 0.2 * 0.25 = 0.005 $$<br>\n",
    "б)$$ 0.1 * 0.2 * 0.75 + 0.1 * 0.8 * 0.25 + 0.9 * 0.2 * 0.25 = 0,125 $$<br>\n",
    "в)$$ 1 - 0.9* 0.8 * 0.75 = 0.46 $$<br>\n",
    "г)$$ 0.1*0.8*0.75 + 0.9*0.2*0.75 + 0.9*0.8*0.25 = 0.375  $$<br>\n",
    "$$ 0.375 + 0.125 = 0.5 $$"
   ]
  },
  {
   "cell_type": "code",
   "execution_count": 12,
   "metadata": {
    "pycharm": {
     "name": "#%%\n"
    }
   },
   "outputs": [],
   "source": []
  }
 ],
 "metadata": {
  "kernelspec": {
   "display_name": "Python 3",
   "language": "python",
   "name": "python3"
  },
  "language_info": {
   "codemirror_mode": {
    "name": "ipython",
    "version": 3
   },
   "file_extension": ".py",
   "mimetype": "text/x-python",
   "name": "python",
   "nbconvert_exporter": "python",
   "pygments_lexer": "ipython3",
   "version": "3.9.6"
  }
 },
 "nbformat": 4,
 "nbformat_minor": 1
}